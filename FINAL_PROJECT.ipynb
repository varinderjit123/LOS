{
 "cells": [
  {
   "cell_type": "code",
   "execution_count": 39,
   "metadata": {},
   "outputs": [],
   "source": [
    "# Importing important packages\n",
    "import pandas as pd\n",
    "import numpy as np\n",
    "import matplotlib.pyplot as plt\n",
    "from sklearn.model_selection import train_test_split\n",
    "import warnings\n",
    "warnings.filterwarnings(\"ignore\")\n",
    "\n",
    "# For neural network we shall use keras library\n",
    "import keras\n",
    "#import math "
   ]
  },
  {
   "cell_type": "code",
   "execution_count": 40,
   "metadata": {},
   "outputs": [],
   "source": [
    "# Importing cleaned data\n",
    "df = pd.read_csv('C:/Users/Varinder/Desktop/Mimic iii Dataset/CSV_Files/FINAL_DATASET.csv')"
   ]
  },
  {
   "cell_type": "code",
   "execution_count": 41,
   "metadata": {},
   "outputs": [
    {
     "name": "stdout",
     "output_type": "stream",
     "text": [
      "<class 'pandas.core.frame.DataFrame'>\n",
      "RangeIndex: 7543 entries, 0 to 7542\n",
      "Data columns (total 17 columns):\n",
      " #   Column                Non-Null Count  Dtype \n",
      "---  ------                --------------  ----- \n",
      " 0   Sr_Num                7543 non-null   int64 \n",
      " 1   SUBJECT_ID            7543 non-null   int64 \n",
      " 2   HADM_ID               7543 non-null   int64 \n",
      " 3   ADMITTIME             7543 non-null   object\n",
      " 4   DISCHTIME             7543 non-null   object\n",
      " 5   LOS_Hospital          7543 non-null   object\n",
      " 6   ADMISSION_TYPE        7543 non-null   object\n",
      " 7   ADMISSION_TYPE2       7543 non-null   int64 \n",
      " 8   EDREGTIME             7543 non-null   object\n",
      " 9   EDOUTTIME             7543 non-null   object\n",
      " 10  ED_LOS_In_Seconds     7543 non-null   int64 \n",
      " 11  ED_LOS_In_Mins        7543 non-null   int64 \n",
      " 12  LOS_EmergencyDept     7543 non-null   object\n",
      " 13  DIAGNOSIS             7543 non-null   object\n",
      " 14  DIAGNOSIS_CODE        7543 non-null   int64 \n",
      " 15  HOSPITAL_EXPIRE_FLAG  7543 non-null   int64 \n",
      " 16  ICD9_CODES            7543 non-null   object\n",
      "dtypes: int64(8), object(9)\n",
      "memory usage: 1001.9+ KB\n"
     ]
    }
   ],
   "source": [
    "df.info()"
   ]
  },
  {
   "cell_type": "markdown",
   "metadata": {},
   "source": [
    "#### We have 7543 observations in our dataset "
   ]
  },
  {
   "cell_type": "code",
   "execution_count": 42,
   "metadata": {},
   "outputs": [
    {
     "data": {
      "text/plain": [
       "Sr_Num                  False\n",
       "SUBJECT_ID              False\n",
       "HADM_ID                 False\n",
       "ADMITTIME               False\n",
       "DISCHTIME               False\n",
       "LOS_Hospital            False\n",
       "ADMISSION_TYPE          False\n",
       "ADMISSION_TYPE2         False\n",
       "EDREGTIME               False\n",
       "EDOUTTIME               False\n",
       "ED_LOS_In_Seconds       False\n",
       "ED_LOS_In_Mins          False\n",
       "LOS_EmergencyDept       False\n",
       "DIAGNOSIS               False\n",
       "DIAGNOSIS_CODE          False\n",
       "HOSPITAL_EXPIRE_FLAG    False\n",
       "ICD9_CODES              False\n",
       "dtype: bool"
      ]
     },
     "execution_count": 42,
     "metadata": {},
     "output_type": "execute_result"
    }
   ],
   "source": [
    "df.isnull().any()"
   ]
  },
  {
   "cell_type": "markdown",
   "metadata": {},
   "source": [
    "\n",
    "#### None of the column contains NULL value"
   ]
  },
  {
   "cell_type": "code",
   "execution_count": 43,
   "metadata": {},
   "outputs": [
    {
     "data": {
      "text/html": [
       "<div>\n",
       "<style scoped>\n",
       "    .dataframe tbody tr th:only-of-type {\n",
       "        vertical-align: middle;\n",
       "    }\n",
       "\n",
       "    .dataframe tbody tr th {\n",
       "        vertical-align: top;\n",
       "    }\n",
       "\n",
       "    .dataframe thead th {\n",
       "        text-align: right;\n",
       "    }\n",
       "</style>\n",
       "<table border=\"1\" class=\"dataframe\">\n",
       "  <thead>\n",
       "    <tr style=\"text-align: right;\">\n",
       "      <th></th>\n",
       "      <th>Sr_Num</th>\n",
       "      <th>SUBJECT_ID</th>\n",
       "      <th>HADM_ID</th>\n",
       "      <th>ADMITTIME</th>\n",
       "      <th>DISCHTIME</th>\n",
       "      <th>LOS_Hospital</th>\n",
       "      <th>ADMISSION_TYPE</th>\n",
       "      <th>ADMISSION_TYPE2</th>\n",
       "      <th>EDREGTIME</th>\n",
       "      <th>EDOUTTIME</th>\n",
       "      <th>ED_LOS_In_Seconds</th>\n",
       "      <th>ED_LOS_In_Mins</th>\n",
       "      <th>LOS_EmergencyDept</th>\n",
       "      <th>DIAGNOSIS</th>\n",
       "      <th>DIAGNOSIS_CODE</th>\n",
       "      <th>HOSPITAL_EXPIRE_FLAG</th>\n",
       "      <th>ICD9_CODES</th>\n",
       "    </tr>\n",
       "  </thead>\n",
       "  <tbody>\n",
       "    <tr>\n",
       "      <th>0</th>\n",
       "      <td>4278</td>\n",
       "      <td>20957</td>\n",
       "      <td>113808</td>\n",
       "      <td>6/24/2100 22:37</td>\n",
       "      <td>7/3/2100 12:31</td>\n",
       "      <td>8 days 13 hrs 54 mins</td>\n",
       "      <td>EMERGENCY</td>\n",
       "      <td>1</td>\n",
       "      <td>6/24/2100 13:37</td>\n",
       "      <td>6/25/2100 0:10</td>\n",
       "      <td>37980</td>\n",
       "      <td>633</td>\n",
       "      <td>0 days 10 hrs 33 mins</td>\n",
       "      <td>BILATERAL PNEUMONIA</td>\n",
       "      <td>311</td>\n",
       "      <td>0</td>\n",
       "      <td>4,865,559,790,799,660</td>\n",
       "    </tr>\n",
       "    <tr>\n",
       "      <th>1</th>\n",
       "      <td>6291</td>\n",
       "      <td>41552</td>\n",
       "      <td>120254</td>\n",
       "      <td>7/5/2100 13:52</td>\n",
       "      <td>7/8/2100 15:45</td>\n",
       "      <td>3 days 1 hrs 53 mins</td>\n",
       "      <td>EMERGENCY</td>\n",
       "      <td>1</td>\n",
       "      <td>7/5/2100 11:33</td>\n",
       "      <td>7/5/2100 14:49</td>\n",
       "      <td>11760</td>\n",
       "      <td>196</td>\n",
       "      <td>0 days 3 hrs 16 mins</td>\n",
       "      <td>ANEMIA</td>\n",
       "      <td>136</td>\n",
       "      <td>0</td>\n",
       "      <td>2851,5533,5849,5853,27652,40390,53100,60784,V1...</td>\n",
       "    </tr>\n",
       "    <tr>\n",
       "      <th>2</th>\n",
       "      <td>14411</td>\n",
       "      <td>72723</td>\n",
       "      <td>146616</td>\n",
       "      <td>7/9/2100 10:43</td>\n",
       "      <td>7/17/2100 15:00</td>\n",
       "      <td>8 days 4 hrs 17 mins</td>\n",
       "      <td>EMERGENCY</td>\n",
       "      <td>1</td>\n",
       "      <td>7/9/2100 5:56</td>\n",
       "      <td>7/9/2100 15:55</td>\n",
       "      <td>35940</td>\n",
       "      <td>599</td>\n",
       "      <td>0 days 9 hrs 59 mins</td>\n",
       "      <td>ABDOMINAL PAIN</td>\n",
       "      <td>16</td>\n",
       "      <td>0</td>\n",
       "      <td>4,109,571,557,235,730,000,000,000,000,000,000,...</td>\n",
       "    </tr>\n",
       "    <tr>\n",
       "      <th>3</th>\n",
       "      <td>4066</td>\n",
       "      <td>42357</td>\n",
       "      <td>113129</td>\n",
       "      <td>7/14/2100 2:04</td>\n",
       "      <td>7/18/2100 14:25</td>\n",
       "      <td>4 days 12 hrs 21 mins</td>\n",
       "      <td>EMERGENCY</td>\n",
       "      <td>1</td>\n",
       "      <td>7/13/2100 22:36</td>\n",
       "      <td>7/14/2100 4:18</td>\n",
       "      <td>20520</td>\n",
       "      <td>342</td>\n",
       "      <td>0 days 5 hrs 42 mins</td>\n",
       "      <td>CHOLANGITIS</td>\n",
       "      <td>513</td>\n",
       "      <td>0</td>\n",
       "      <td>3,895,702,762,276,820,000,000,000,000,000,000,...</td>\n",
       "    </tr>\n",
       "    <tr>\n",
       "      <th>4</th>\n",
       "      <td>2430</td>\n",
       "      <td>12834</td>\n",
       "      <td>107726</td>\n",
       "      <td>7/14/2100 20:52</td>\n",
       "      <td>7/22/2100 17:06</td>\n",
       "      <td>7 days 20 hrs 14 mins</td>\n",
       "      <td>EMERGENCY</td>\n",
       "      <td>1</td>\n",
       "      <td>7/14/2100 12:15</td>\n",
       "      <td>7/15/2100 2:41</td>\n",
       "      <td>51960</td>\n",
       "      <td>866</td>\n",
       "      <td>0 days 14 hrs 26 mins</td>\n",
       "      <td>CIRRHOSIS</td>\n",
       "      <td>533</td>\n",
       "      <td>0</td>\n",
       "      <td>2,113,286,940,194,590,000,000,000,000,000,000,000</td>\n",
       "    </tr>\n",
       "  </tbody>\n",
       "</table>\n",
       "</div>"
      ],
      "text/plain": [
       "   Sr_Num  SUBJECT_ID  HADM_ID        ADMITTIME        DISCHTIME  \\\n",
       "0    4278       20957   113808  6/24/2100 22:37   7/3/2100 12:31   \n",
       "1    6291       41552   120254   7/5/2100 13:52   7/8/2100 15:45   \n",
       "2   14411       72723   146616   7/9/2100 10:43  7/17/2100 15:00   \n",
       "3    4066       42357   113129   7/14/2100 2:04  7/18/2100 14:25   \n",
       "4    2430       12834   107726  7/14/2100 20:52  7/22/2100 17:06   \n",
       "\n",
       "             LOS_Hospital ADMISSION_TYPE  ADMISSION_TYPE2        EDREGTIME  \\\n",
       "0  8 days 13 hrs 54 mins       EMERGENCY                1  6/24/2100 13:37   \n",
       "1   3 days 1 hrs 53 mins       EMERGENCY                1   7/5/2100 11:33   \n",
       "2   8 days 4 hrs 17 mins       EMERGENCY                1    7/9/2100 5:56   \n",
       "3  4 days 12 hrs 21 mins       EMERGENCY                1  7/13/2100 22:36   \n",
       "4  7 days 20 hrs 14 mins       EMERGENCY                1  7/14/2100 12:15   \n",
       "\n",
       "        EDOUTTIME  ED_LOS_In_Seconds  ED_LOS_In_Mins       LOS_EmergencyDept  \\\n",
       "0  6/25/2100 0:10              37980             633  0 days 10 hrs 33 mins    \n",
       "1  7/5/2100 14:49              11760             196   0 days 3 hrs 16 mins    \n",
       "2  7/9/2100 15:55              35940             599   0 days 9 hrs 59 mins    \n",
       "3  7/14/2100 4:18              20520             342   0 days 5 hrs 42 mins    \n",
       "4  7/15/2100 2:41              51960             866  0 days 14 hrs 26 mins    \n",
       "\n",
       "             DIAGNOSIS  DIAGNOSIS_CODE  HOSPITAL_EXPIRE_FLAG  \\\n",
       "0  BILATERAL PNEUMONIA             311                     0   \n",
       "1               ANEMIA             136                     0   \n",
       "2       ABDOMINAL PAIN              16                     0   \n",
       "3          CHOLANGITIS             513                     0   \n",
       "4            CIRRHOSIS             533                     0   \n",
       "\n",
       "                                          ICD9_CODES  \n",
       "0                              4,865,559,790,799,660  \n",
       "1  2851,5533,5849,5853,27652,40390,53100,60784,V1...  \n",
       "2  4,109,571,557,235,730,000,000,000,000,000,000,...  \n",
       "3  3,895,702,762,276,820,000,000,000,000,000,000,...  \n",
       "4  2,113,286,940,194,590,000,000,000,000,000,000,000  "
      ]
     },
     "execution_count": 43,
     "metadata": {},
     "output_type": "execute_result"
    }
   ],
   "source": [
    "df.head()"
   ]
  },
  {
   "cell_type": "markdown",
   "metadata": {},
   "source": [
    "#### Our target variable will be LOS(in minutes), And we will predict LOS on the basis of diagnosis code"
   ]
  },
  {
   "cell_type": "markdown",
   "metadata": {},
   "source": [
    "#### Overview of our data. How our data is placed in dataset. "
   ]
  },
  {
   "cell_type": "code",
   "execution_count": 44,
   "metadata": {},
   "outputs": [
    {
     "name": "stdout",
     "output_type": "stream",
     "text": [
      "We have 7543 number of unique admissions in our dataset.\n"
     ]
    }
   ],
   "source": [
    "print('We have {} number of unique admissions in our dataset.'.format(df['HADM_ID'].nunique()))"
   ]
  },
  {
   "cell_type": "markdown",
   "metadata": {},
   "source": [
    "#### We have the data of 7543 unique patients. Means no patient's data is repeating."
   ]
  },
  {
   "cell_type": "code",
   "execution_count": 45,
   "metadata": {},
   "outputs": [
    {
     "name": "stdout",
     "output_type": "stream",
     "text": [
      "We have 598 number of unique diseases in our dataset.\n"
     ]
    }
   ],
   "source": [
    "print('We have {} number of unique diseases in our dataset.'.format(df['DIAGNOSIS_CODE'].nunique()))"
   ]
  },
  {
   "cell_type": "markdown",
   "metadata": {},
   "source": [
    "#### We have 598 diagnosis for 7543 patients."
   ]
  },
  {
   "cell_type": "markdown",
   "metadata": {},
   "source": [
    "#### Now we are checking how many types of emergency admissions we have in hospital"
   ]
  },
  {
   "cell_type": "code",
   "execution_count": 46,
   "metadata": {},
   "outputs": [
    {
     "data": {
      "text/plain": [
       "EMERGENCY    7514\n",
       "URGENT         23\n",
       "ELECTIVE        6\n",
       "Name: ADMISSION_TYPE, dtype: int64"
      ]
     },
     "execution_count": 46,
     "metadata": {},
     "output_type": "execute_result"
    }
   ],
   "source": [
    "df['ADMISSION_TYPE'].value_counts()"
   ]
  },
  {
   "cell_type": "markdown",
   "metadata": {},
   "source": [
    "#### We have 3 types of admissions for emergency department. \n",
    "Sudden new entry in hospital is named as emergency.\n",
    "Urgent means patient is already admitted in hospital but need some emergency treatment. \n",
    "Elective patient is called by appointment."
   ]
  },
  {
   "cell_type": "markdown",
   "metadata": {},
   "source": [
    "#### Checking the death rate in emergency department"
   ]
  },
  {
   "cell_type": "code",
   "execution_count": 47,
   "metadata": {},
   "outputs": [
    {
     "name": "stdout",
     "output_type": "stream",
     "text": [
      "855 Patients died in the emergency department from 7543 patients\n"
     ]
    }
   ],
   "source": [
    "print(\"{} Patients died in the emergency department from {} patients\".format(df['HOSPITAL_EXPIRE_FLAG'].sum(),df['HADM_ID'].nunique()))"
   ]
  },
  {
   "cell_type": "code",
   "execution_count": 48,
   "metadata": {},
   "outputs": [
    {
     "name": "stdout",
     "output_type": "stream",
     "text": [
      "11.34% Patients died in the emergency department\n"
     ]
    }
   ],
   "source": [
    "print(\"{:.2f}% Patients died in the emergency department\".format((df['HOSPITAL_EXPIRE_FLAG'].sum()/df['HADM_ID'].nunique())*100))"
   ]
  },
  {
   "cell_type": "markdown",
   "metadata": {},
   "source": [
    "#### 855 out of total 7543 patients died in emergency depatment. That is 11.34% death ratio."
   ]
  },
  {
   "cell_type": "markdown",
   "metadata": {},
   "source": [
    "#### Now, we are checking the outliers for our target variable (LOS)"
   ]
  },
  {
   "cell_type": "code",
   "execution_count": 49,
   "metadata": {},
   "outputs": [
    {
     "data": {
      "text/plain": [
       "count    7543.000000\n",
       "mean      361.620310\n",
       "std       263.671425\n",
       "min     -1246.000000\n",
       "25%       203.000000\n",
       "50%       307.000000\n",
       "75%       442.000000\n",
       "max      3282.000000\n",
       "Name: ED_LOS_In_Mins, dtype: float64"
      ]
     },
     "execution_count": 49,
     "metadata": {},
     "output_type": "execute_result"
    }
   ],
   "source": [
    "df['ED_LOS_In_Mins'].describe()"
   ]
  },
  {
   "cell_type": "code",
   "execution_count": 50,
   "metadata": {},
   "outputs": [
    {
     "data": {
      "text/plain": [
       "Sr_Num                  5\n",
       "SUBJECT_ID              5\n",
       "HADM_ID                 5\n",
       "ADMITTIME               5\n",
       "DISCHTIME               5\n",
       "LOS_Hospital            5\n",
       "ADMISSION_TYPE          5\n",
       "ADMISSION_TYPE2         5\n",
       "EDREGTIME               5\n",
       "EDOUTTIME               5\n",
       "ED_LOS_In_Seconds       5\n",
       "ED_LOS_In_Mins          5\n",
       "LOS_EmergencyDept       5\n",
       "DIAGNOSIS               5\n",
       "DIAGNOSIS_CODE          5\n",
       "HOSPITAL_EXPIRE_FLAG    5\n",
       "ICD9_CODES              5\n",
       "dtype: int64"
      ]
     },
     "execution_count": 50,
     "metadata": {},
     "output_type": "execute_result"
    }
   ],
   "source": [
    "# Data about patients who have lef the hospital.\n",
    "df[df['ED_LOS_In_Mins'] <= 0].count()"
   ]
  },
  {
   "cell_type": "code",
   "execution_count": 51,
   "metadata": {
    "scrolled": true
   },
   "outputs": [
    {
     "data": {
      "text/html": [
       "<div>\n",
       "<style scoped>\n",
       "    .dataframe tbody tr th:only-of-type {\n",
       "        vertical-align: middle;\n",
       "    }\n",
       "\n",
       "    .dataframe tbody tr th {\n",
       "        vertical-align: top;\n",
       "    }\n",
       "\n",
       "    .dataframe thead th {\n",
       "        text-align: right;\n",
       "    }\n",
       "</style>\n",
       "<table border=\"1\" class=\"dataframe\">\n",
       "  <thead>\n",
       "    <tr style=\"text-align: right;\">\n",
       "      <th></th>\n",
       "      <th>Sr_Num</th>\n",
       "      <th>SUBJECT_ID</th>\n",
       "      <th>HADM_ID</th>\n",
       "      <th>ADMITTIME</th>\n",
       "      <th>DISCHTIME</th>\n",
       "      <th>LOS_Hospital</th>\n",
       "      <th>ADMISSION_TYPE</th>\n",
       "      <th>ADMISSION_TYPE2</th>\n",
       "      <th>EDREGTIME</th>\n",
       "      <th>EDOUTTIME</th>\n",
       "      <th>ED_LOS_In_Seconds</th>\n",
       "      <th>ED_LOS_In_Mins</th>\n",
       "      <th>LOS_EmergencyDept</th>\n",
       "      <th>DIAGNOSIS</th>\n",
       "      <th>DIAGNOSIS_CODE</th>\n",
       "      <th>HOSPITAL_EXPIRE_FLAG</th>\n",
       "      <th>ICD9_CODES</th>\n",
       "    </tr>\n",
       "  </thead>\n",
       "  <tbody>\n",
       "    <tr>\n",
       "      <th>759</th>\n",
       "      <td>5286</td>\n",
       "      <td>13500</td>\n",
       "      <td>117078</td>\n",
       "      <td>12/2/2110 6:16</td>\n",
       "      <td>12/8/2110 3:06</td>\n",
       "      <td>5 days 20 hrs 50 mins</td>\n",
       "      <td>EMERGENCY</td>\n",
       "      <td>1</td>\n",
       "      <td>12/2/2110 0:19</td>\n",
       "      <td>12/1/2110 12:07</td>\n",
       "      <td>-43920</td>\n",
       "      <td>-732</td>\n",
       "      <td>#VALUE!</td>\n",
       "      <td>ACUTE KIDNEY FAILURE</td>\n",
       "      <td>66</td>\n",
       "      <td>0</td>\n",
       "      <td>42,591,1760,2765,5770,5845,5990,28529,V1581</td>\n",
       "    </tr>\n",
       "    <tr>\n",
       "      <th>3198</th>\n",
       "      <td>2158</td>\n",
       "      <td>13403</td>\n",
       "      <td>106842</td>\n",
       "      <td>1/17/2144 3:45</td>\n",
       "      <td>1/20/2144 17:08</td>\n",
       "      <td>3 days 13 hrs 23 mins</td>\n",
       "      <td>EMERGENCY</td>\n",
       "      <td>1</td>\n",
       "      <td>1/17/2144 1:24</td>\n",
       "      <td>1/16/2144 4:38</td>\n",
       "      <td>-74760</td>\n",
       "      <td>-1246</td>\n",
       "      <td>#VALUE!</td>\n",
       "      <td>CHEST PAIN</td>\n",
       "      <td>498</td>\n",
       "      <td>0</td>\n",
       "      <td>2720,4019,41011,41401,V1507</td>\n",
       "    </tr>\n",
       "    <tr>\n",
       "      <th>3862</th>\n",
       "      <td>21550</td>\n",
       "      <td>10904</td>\n",
       "      <td>169678</td>\n",
       "      <td>9/15/2152 7:27</td>\n",
       "      <td>9/22/2152 17:01</td>\n",
       "      <td>7 days 9 hrs 34 mins</td>\n",
       "      <td>EMERGENCY</td>\n",
       "      <td>1</td>\n",
       "      <td>9/15/2152 5:07</td>\n",
       "      <td>9/15/2152 5:00</td>\n",
       "      <td>-420</td>\n",
       "      <td>-7</td>\n",
       "      <td>#VALUE!</td>\n",
       "      <td>CHEST TRAUMA</td>\n",
       "      <td>500</td>\n",
       "      <td>0</td>\n",
       "      <td>2851,8750,8912,9040,9042,81511,E970</td>\n",
       "    </tr>\n",
       "    <tr>\n",
       "      <th>5063</th>\n",
       "      <td>7074</td>\n",
       "      <td>97518</td>\n",
       "      <td>122851</td>\n",
       "      <td>9/30/2168 19:22</td>\n",
       "      <td>10/14/2168 15:30</td>\n",
       "      <td>13 days 20 hrs 8 mins</td>\n",
       "      <td>EMERGENCY</td>\n",
       "      <td>1</td>\n",
       "      <td>9/30/2168 11:13</td>\n",
       "      <td>9/30/2168 11:13</td>\n",
       "      <td>0</td>\n",
       "      <td>0</td>\n",
       "      <td>0 days 0 hrs 0 mins</td>\n",
       "      <td>AORTIC ANEURYSM</td>\n",
       "      <td>164</td>\n",
       "      <td>0</td>\n",
       "      <td>311,2724,2763,2869,2875,3051,3963,4019,4233,44...</td>\n",
       "    </tr>\n",
       "    <tr>\n",
       "      <th>7159</th>\n",
       "      <td>7553</td>\n",
       "      <td>539</td>\n",
       "      <td>124411</td>\n",
       "      <td>3/30/2197 7:33</td>\n",
       "      <td>4/3/2197 14:25</td>\n",
       "      <td>4 days 6 hrs 52 mins</td>\n",
       "      <td>EMERGENCY</td>\n",
       "      <td>1</td>\n",
       "      <td>3/30/2197 2:11</td>\n",
       "      <td>3/29/2197 8:25</td>\n",
       "      <td>-63960</td>\n",
       "      <td>-1066</td>\n",
       "      <td>#VALUE!</td>\n",
       "      <td>CHEST PAIN</td>\n",
       "      <td>498</td>\n",
       "      <td>0</td>\n",
       "      <td>4,124,280,599,025,000,000,000,000,000,000</td>\n",
       "    </tr>\n",
       "  </tbody>\n",
       "</table>\n",
       "</div>"
      ],
      "text/plain": [
       "      Sr_Num  SUBJECT_ID  HADM_ID        ADMITTIME         DISCHTIME  \\\n",
       "759     5286       13500   117078   12/2/2110 6:16    12/8/2110 3:06   \n",
       "3198    2158       13403   106842   1/17/2144 3:45   1/20/2144 17:08   \n",
       "3862   21550       10904   169678   9/15/2152 7:27   9/22/2152 17:01   \n",
       "5063    7074       97518   122851  9/30/2168 19:22  10/14/2168 15:30   \n",
       "7159    7553         539   124411   3/30/2197 7:33    4/3/2197 14:25   \n",
       "\n",
       "                LOS_Hospital ADMISSION_TYPE  ADMISSION_TYPE2        EDREGTIME  \\\n",
       "759   5 days 20 hrs 50 mins       EMERGENCY                1   12/2/2110 0:19   \n",
       "3198  3 days 13 hrs 23 mins       EMERGENCY                1   1/17/2144 1:24   \n",
       "3862   7 days 9 hrs 34 mins       EMERGENCY                1   9/15/2152 5:07   \n",
       "5063  13 days 20 hrs 8 mins       EMERGENCY                1  9/30/2168 11:13   \n",
       "7159   4 days 6 hrs 52 mins       EMERGENCY                1   3/30/2197 2:11   \n",
       "\n",
       "            EDOUTTIME  ED_LOS_In_Seconds  ED_LOS_In_Mins  \\\n",
       "759   12/1/2110 12:07             -43920            -732   \n",
       "3198   1/16/2144 4:38             -74760           -1246   \n",
       "3862   9/15/2152 5:00               -420              -7   \n",
       "5063  9/30/2168 11:13                  0               0   \n",
       "7159   3/29/2197 8:25             -63960           -1066   \n",
       "\n",
       "         LOS_EmergencyDept             DIAGNOSIS  DIAGNOSIS_CODE  \\\n",
       "759                #VALUE!  ACUTE KIDNEY FAILURE              66   \n",
       "3198               #VALUE!            CHEST PAIN             498   \n",
       "3862               #VALUE!          CHEST TRAUMA             500   \n",
       "5063  0 days 0 hrs 0 mins        AORTIC ANEURYSM             164   \n",
       "7159               #VALUE!            CHEST PAIN             498   \n",
       "\n",
       "      HOSPITAL_EXPIRE_FLAG                                         ICD9_CODES  \n",
       "759                      0        42,591,1760,2765,5770,5845,5990,28529,V1581  \n",
       "3198                     0                        2720,4019,41011,41401,V1507  \n",
       "3862                     0                2851,8750,8912,9040,9042,81511,E970  \n",
       "5063                     0  311,2724,2763,2869,2875,3051,3963,4019,4233,44...  \n",
       "7159                     0          4,124,280,599,025,000,000,000,000,000,000  "
      ]
     },
     "execution_count": 51,
     "metadata": {},
     "output_type": "execute_result"
    }
   ],
   "source": [
    "df[df['ED_LOS_In_Mins'] <= 0]"
   ]
  },
  {
   "cell_type": "markdown",
   "metadata": {},
   "source": [
    "#### Above shown are the total 5 outliers(wrong or unnessary values) in our dataset. Now shall remove these observations from dataset, otherwise it will make negative impact on our predictions."
   ]
  },
  {
   "cell_type": "code",
   "execution_count": 52,
   "metadata": {},
   "outputs": [],
   "source": [
    "df = df[df['ED_LOS_In_Mins'] > 0]"
   ]
  },
  {
   "cell_type": "code",
   "execution_count": 53,
   "metadata": {},
   "outputs": [
    {
     "name": "stdout",
     "output_type": "stream",
     "text": [
      "<class 'pandas.core.frame.DataFrame'>\n",
      "Int64Index: 7538 entries, 0 to 7542\n",
      "Data columns (total 17 columns):\n",
      " #   Column                Non-Null Count  Dtype \n",
      "---  ------                --------------  ----- \n",
      " 0   Sr_Num                7538 non-null   int64 \n",
      " 1   SUBJECT_ID            7538 non-null   int64 \n",
      " 2   HADM_ID               7538 non-null   int64 \n",
      " 3   ADMITTIME             7538 non-null   object\n",
      " 4   DISCHTIME             7538 non-null   object\n",
      " 5   LOS_Hospital          7538 non-null   object\n",
      " 6   ADMISSION_TYPE        7538 non-null   object\n",
      " 7   ADMISSION_TYPE2       7538 non-null   int64 \n",
      " 8   EDREGTIME             7538 non-null   object\n",
      " 9   EDOUTTIME             7538 non-null   object\n",
      " 10  ED_LOS_In_Seconds     7538 non-null   int64 \n",
      " 11  ED_LOS_In_Mins        7538 non-null   int64 \n",
      " 12  LOS_EmergencyDept     7538 non-null   object\n",
      " 13  DIAGNOSIS             7538 non-null   object\n",
      " 14  DIAGNOSIS_CODE        7538 non-null   int64 \n",
      " 15  HOSPITAL_EXPIRE_FLAG  7538 non-null   int64 \n",
      " 16  ICD9_CODES            7538 non-null   object\n",
      "dtypes: int64(8), object(9)\n",
      "memory usage: 1.0+ MB\n"
     ]
    }
   ],
   "source": [
    "df.info()"
   ]
  },
  {
   "cell_type": "code",
   "execution_count": 54,
   "metadata": {},
   "outputs": [
    {
     "data": {
      "text/html": [
       "<div>\n",
       "<style scoped>\n",
       "    .dataframe tbody tr th:only-of-type {\n",
       "        vertical-align: middle;\n",
       "    }\n",
       "\n",
       "    .dataframe tbody tr th {\n",
       "        vertical-align: top;\n",
       "    }\n",
       "\n",
       "    .dataframe thead th {\n",
       "        text-align: right;\n",
       "    }\n",
       "</style>\n",
       "<table border=\"1\" class=\"dataframe\">\n",
       "  <thead>\n",
       "    <tr style=\"text-align: right;\">\n",
       "      <th></th>\n",
       "      <th>Sr_Num</th>\n",
       "      <th>SUBJECT_ID</th>\n",
       "      <th>HADM_ID</th>\n",
       "      <th>ADMITTIME</th>\n",
       "      <th>DISCHTIME</th>\n",
       "      <th>LOS_Hospital</th>\n",
       "      <th>ADMISSION_TYPE</th>\n",
       "      <th>ADMISSION_TYPE2</th>\n",
       "      <th>EDREGTIME</th>\n",
       "      <th>EDOUTTIME</th>\n",
       "      <th>ED_LOS_In_Seconds</th>\n",
       "      <th>ED_LOS_In_Mins</th>\n",
       "      <th>LOS_EmergencyDept</th>\n",
       "      <th>DIAGNOSIS</th>\n",
       "      <th>DIAGNOSIS_CODE</th>\n",
       "      <th>HOSPITAL_EXPIRE_FLAG</th>\n",
       "      <th>ICD9_CODES</th>\n",
       "    </tr>\n",
       "  </thead>\n",
       "  <tbody>\n",
       "    <tr>\n",
       "      <th>0</th>\n",
       "      <td>4278</td>\n",
       "      <td>20957</td>\n",
       "      <td>113808</td>\n",
       "      <td>6/24/2100 22:37</td>\n",
       "      <td>7/3/2100 12:31</td>\n",
       "      <td>8 days 13 hrs 54 mins</td>\n",
       "      <td>EMERGENCY</td>\n",
       "      <td>1</td>\n",
       "      <td>6/24/2100 13:37</td>\n",
       "      <td>6/25/2100 0:10</td>\n",
       "      <td>37980</td>\n",
       "      <td>633</td>\n",
       "      <td>0 days 10 hrs 33 mins</td>\n",
       "      <td>BILATERAL PNEUMONIA</td>\n",
       "      <td>311</td>\n",
       "      <td>0</td>\n",
       "      <td>4,865,559,790,799,660</td>\n",
       "    </tr>\n",
       "    <tr>\n",
       "      <th>1</th>\n",
       "      <td>6291</td>\n",
       "      <td>41552</td>\n",
       "      <td>120254</td>\n",
       "      <td>7/5/2100 13:52</td>\n",
       "      <td>7/8/2100 15:45</td>\n",
       "      <td>3 days 1 hrs 53 mins</td>\n",
       "      <td>EMERGENCY</td>\n",
       "      <td>1</td>\n",
       "      <td>7/5/2100 11:33</td>\n",
       "      <td>7/5/2100 14:49</td>\n",
       "      <td>11760</td>\n",
       "      <td>196</td>\n",
       "      <td>0 days 3 hrs 16 mins</td>\n",
       "      <td>ANEMIA</td>\n",
       "      <td>136</td>\n",
       "      <td>0</td>\n",
       "      <td>2851,5533,5849,5853,27652,40390,53100,60784,V1...</td>\n",
       "    </tr>\n",
       "    <tr>\n",
       "      <th>2</th>\n",
       "      <td>14411</td>\n",
       "      <td>72723</td>\n",
       "      <td>146616</td>\n",
       "      <td>7/9/2100 10:43</td>\n",
       "      <td>7/17/2100 15:00</td>\n",
       "      <td>8 days 4 hrs 17 mins</td>\n",
       "      <td>EMERGENCY</td>\n",
       "      <td>1</td>\n",
       "      <td>7/9/2100 5:56</td>\n",
       "      <td>7/9/2100 15:55</td>\n",
       "      <td>35940</td>\n",
       "      <td>599</td>\n",
       "      <td>0 days 9 hrs 59 mins</td>\n",
       "      <td>ABDOMINAL PAIN</td>\n",
       "      <td>16</td>\n",
       "      <td>0</td>\n",
       "      <td>4,109,571,557,235,730,000,000,000,000,000,000,...</td>\n",
       "    </tr>\n",
       "    <tr>\n",
       "      <th>3</th>\n",
       "      <td>4066</td>\n",
       "      <td>42357</td>\n",
       "      <td>113129</td>\n",
       "      <td>7/14/2100 2:04</td>\n",
       "      <td>7/18/2100 14:25</td>\n",
       "      <td>4 days 12 hrs 21 mins</td>\n",
       "      <td>EMERGENCY</td>\n",
       "      <td>1</td>\n",
       "      <td>7/13/2100 22:36</td>\n",
       "      <td>7/14/2100 4:18</td>\n",
       "      <td>20520</td>\n",
       "      <td>342</td>\n",
       "      <td>0 days 5 hrs 42 mins</td>\n",
       "      <td>CHOLANGITIS</td>\n",
       "      <td>513</td>\n",
       "      <td>0</td>\n",
       "      <td>3,895,702,762,276,820,000,000,000,000,000,000,...</td>\n",
       "    </tr>\n",
       "    <tr>\n",
       "      <th>4</th>\n",
       "      <td>2430</td>\n",
       "      <td>12834</td>\n",
       "      <td>107726</td>\n",
       "      <td>7/14/2100 20:52</td>\n",
       "      <td>7/22/2100 17:06</td>\n",
       "      <td>7 days 20 hrs 14 mins</td>\n",
       "      <td>EMERGENCY</td>\n",
       "      <td>1</td>\n",
       "      <td>7/14/2100 12:15</td>\n",
       "      <td>7/15/2100 2:41</td>\n",
       "      <td>51960</td>\n",
       "      <td>866</td>\n",
       "      <td>0 days 14 hrs 26 mins</td>\n",
       "      <td>CIRRHOSIS</td>\n",
       "      <td>533</td>\n",
       "      <td>0</td>\n",
       "      <td>2,113,286,940,194,590,000,000,000,000,000,000,000</td>\n",
       "    </tr>\n",
       "  </tbody>\n",
       "</table>\n",
       "</div>"
      ],
      "text/plain": [
       "   Sr_Num  SUBJECT_ID  HADM_ID        ADMITTIME        DISCHTIME  \\\n",
       "0    4278       20957   113808  6/24/2100 22:37   7/3/2100 12:31   \n",
       "1    6291       41552   120254   7/5/2100 13:52   7/8/2100 15:45   \n",
       "2   14411       72723   146616   7/9/2100 10:43  7/17/2100 15:00   \n",
       "3    4066       42357   113129   7/14/2100 2:04  7/18/2100 14:25   \n",
       "4    2430       12834   107726  7/14/2100 20:52  7/22/2100 17:06   \n",
       "\n",
       "             LOS_Hospital ADMISSION_TYPE  ADMISSION_TYPE2        EDREGTIME  \\\n",
       "0  8 days 13 hrs 54 mins       EMERGENCY                1  6/24/2100 13:37   \n",
       "1   3 days 1 hrs 53 mins       EMERGENCY                1   7/5/2100 11:33   \n",
       "2   8 days 4 hrs 17 mins       EMERGENCY                1    7/9/2100 5:56   \n",
       "3  4 days 12 hrs 21 mins       EMERGENCY                1  7/13/2100 22:36   \n",
       "4  7 days 20 hrs 14 mins       EMERGENCY                1  7/14/2100 12:15   \n",
       "\n",
       "        EDOUTTIME  ED_LOS_In_Seconds  ED_LOS_In_Mins       LOS_EmergencyDept  \\\n",
       "0  6/25/2100 0:10              37980             633  0 days 10 hrs 33 mins    \n",
       "1  7/5/2100 14:49              11760             196   0 days 3 hrs 16 mins    \n",
       "2  7/9/2100 15:55              35940             599   0 days 9 hrs 59 mins    \n",
       "3  7/14/2100 4:18              20520             342   0 days 5 hrs 42 mins    \n",
       "4  7/15/2100 2:41              51960             866  0 days 14 hrs 26 mins    \n",
       "\n",
       "             DIAGNOSIS  DIAGNOSIS_CODE  HOSPITAL_EXPIRE_FLAG  \\\n",
       "0  BILATERAL PNEUMONIA             311                     0   \n",
       "1               ANEMIA             136                     0   \n",
       "2       ABDOMINAL PAIN              16                     0   \n",
       "3          CHOLANGITIS             513                     0   \n",
       "4            CIRRHOSIS             533                     0   \n",
       "\n",
       "                                          ICD9_CODES  \n",
       "0                              4,865,559,790,799,660  \n",
       "1  2851,5533,5849,5853,27652,40390,53100,60784,V1...  \n",
       "2  4,109,571,557,235,730,000,000,000,000,000,000,...  \n",
       "3  3,895,702,762,276,820,000,000,000,000,000,000,...  \n",
       "4  2,113,286,940,194,590,000,000,000,000,000,000,000  "
      ]
     },
     "execution_count": 54,
     "metadata": {},
     "output_type": "execute_result"
    }
   ],
   "source": [
    "df.head()"
   ]
  },
  {
   "cell_type": "markdown",
   "metadata": {},
   "source": [
    "### Now we have dataset with no outliers\n",
    "#### This is the distribution of LOS time "
   ]
  },
  {
   "cell_type": "code",
   "execution_count": 55,
   "metadata": {},
   "outputs": [
    {
     "data": {
      "image/png": "[encoded data removed]",
      "text/plain": [
       "<Figure size 432x288 with 1 Axes>"
      ]
     },
     "metadata": {
      "needs_background": "light"
     },
     "output_type": "display_data"
    }
   ],
   "source": [
    "# Plot LOS Distribution\n",
    "plt.hist(df['ED_LOS_In_Mins'], bins=200)\n",
    "plt.xlim(0, 1600)\n",
    "plt.title('LOS Distribution')\n",
    "plt.ylabel('Count')\n",
    "plt.xlabel('Length-of-Stay (days)')\n",
    "plt.show();"
   ]
  },
  {
   "cell_type": "markdown",
   "metadata": {},
   "source": [
    "#### We are droping all the columns that contain non-numeric data or those have no relation with LOS"
   ]
  },
  {
   "cell_type": "code",
   "execution_count": 56,
   "metadata": {},
   "outputs": [
    {
     "data": {
      "text/html": [
       "<div>\n",
       "<style scoped>\n",
       "    .dataframe tbody tr th:only-of-type {\n",
       "        vertical-align: middle;\n",
       "    }\n",
       "\n",
       "    .dataframe tbody tr th {\n",
       "        vertical-align: top;\n",
       "    }\n",
       "\n",
       "    .dataframe thead th {\n",
       "        text-align: right;\n",
       "    }\n",
       "</style>\n",
       "<table border=\"1\" class=\"dataframe\">\n",
       "  <thead>\n",
       "    <tr style=\"text-align: right;\">\n",
       "      <th></th>\n",
       "      <th>Sr_Num</th>\n",
       "      <th>SUBJECT_ID</th>\n",
       "      <th>HADM_ID</th>\n",
       "      <th>ADMISSION_TYPE2</th>\n",
       "      <th>ED_LOS_In_Seconds</th>\n",
       "      <th>ED_LOS_In_Mins</th>\n",
       "      <th>DIAGNOSIS_CODE</th>\n",
       "      <th>HOSPITAL_EXPIRE_FLAG</th>\n",
       "    </tr>\n",
       "  </thead>\n",
       "  <tbody>\n",
       "    <tr>\n",
       "      <th>0</th>\n",
       "      <td>4278</td>\n",
       "      <td>20957</td>\n",
       "      <td>113808</td>\n",
       "      <td>1</td>\n",
       "      <td>37980</td>\n",
       "      <td>633</td>\n",
       "      <td>311</td>\n",
       "      <td>0</td>\n",
       "    </tr>\n",
       "    <tr>\n",
       "      <th>1</th>\n",
       "      <td>6291</td>\n",
       "      <td>41552</td>\n",
       "      <td>120254</td>\n",
       "      <td>1</td>\n",
       "      <td>11760</td>\n",
       "      <td>196</td>\n",
       "      <td>136</td>\n",
       "      <td>0</td>\n",
       "    </tr>\n",
       "    <tr>\n",
       "      <th>2</th>\n",
       "      <td>14411</td>\n",
       "      <td>72723</td>\n",
       "      <td>146616</td>\n",
       "      <td>1</td>\n",
       "      <td>35940</td>\n",
       "      <td>599</td>\n",
       "      <td>16</td>\n",
       "      <td>0</td>\n",
       "    </tr>\n",
       "    <tr>\n",
       "      <th>3</th>\n",
       "      <td>4066</td>\n",
       "      <td>42357</td>\n",
       "      <td>113129</td>\n",
       "      <td>1</td>\n",
       "      <td>20520</td>\n",
       "      <td>342</td>\n",
       "      <td>513</td>\n",
       "      <td>0</td>\n",
       "    </tr>\n",
       "    <tr>\n",
       "      <th>4</th>\n",
       "      <td>2430</td>\n",
       "      <td>12834</td>\n",
       "      <td>107726</td>\n",
       "      <td>1</td>\n",
       "      <td>51960</td>\n",
       "      <td>866</td>\n",
       "      <td>533</td>\n",
       "      <td>0</td>\n",
       "    </tr>\n",
       "    <tr>\n",
       "      <th>...</th>\n",
       "      <td>...</td>\n",
       "      <td>...</td>\n",
       "      <td>...</td>\n",
       "      <td>...</td>\n",
       "      <td>...</td>\n",
       "      <td>...</td>\n",
       "      <td>...</td>\n",
       "      <td>...</td>\n",
       "    </tr>\n",
       "    <tr>\n",
       "      <th>7538</th>\n",
       "      <td>16800</td>\n",
       "      <td>12567</td>\n",
       "      <td>154272</td>\n",
       "      <td>1</td>\n",
       "      <td>16560</td>\n",
       "      <td>276</td>\n",
       "      <td>240</td>\n",
       "      <td>0</td>\n",
       "    </tr>\n",
       "    <tr>\n",
       "      <th>7539</th>\n",
       "      <td>25727</td>\n",
       "      <td>18250</td>\n",
       "      <td>183165</td>\n",
       "      <td>1</td>\n",
       "      <td>14640</td>\n",
       "      <td>244</td>\n",
       "      <td>240</td>\n",
       "      <td>0</td>\n",
       "    </tr>\n",
       "    <tr>\n",
       "      <th>7540</th>\n",
       "      <td>27061</td>\n",
       "      <td>4843</td>\n",
       "      <td>187638</td>\n",
       "      <td>1</td>\n",
       "      <td>15060</td>\n",
       "      <td>251</td>\n",
       "      <td>447</td>\n",
       "      <td>0</td>\n",
       "    </tr>\n",
       "    <tr>\n",
       "      <th>7541</th>\n",
       "      <td>1237</td>\n",
       "      <td>19338</td>\n",
       "      <td>103944</td>\n",
       "      <td>1</td>\n",
       "      <td>40920</td>\n",
       "      <td>682</td>\n",
       "      <td>123</td>\n",
       "      <td>0</td>\n",
       "    </tr>\n",
       "    <tr>\n",
       "      <th>7542</th>\n",
       "      <td>30183</td>\n",
       "      <td>11446</td>\n",
       "      <td>197618</td>\n",
       "      <td>1</td>\n",
       "      <td>7560</td>\n",
       "      <td>126</td>\n",
       "      <td>498</td>\n",
       "      <td>0</td>\n",
       "    </tr>\n",
       "  </tbody>\n",
       "</table>\n",
       "<p>7538 rows × 8 columns</p>\n",
       "</div>"
      ],
      "text/plain": [
       "      Sr_Num  SUBJECT_ID  HADM_ID  ADMISSION_TYPE2  ED_LOS_In_Seconds  \\\n",
       "0       4278       20957   113808                1              37980   \n",
       "1       6291       41552   120254                1              11760   \n",
       "2      14411       72723   146616                1              35940   \n",
       "3       4066       42357   113129                1              20520   \n",
       "4       2430       12834   107726                1              51960   \n",
       "...      ...         ...      ...              ...                ...   \n",
       "7538   16800       12567   154272                1              16560   \n",
       "7539   25727       18250   183165                1              14640   \n",
       "7540   27061        4843   187638                1              15060   \n",
       "7541    1237       19338   103944                1              40920   \n",
       "7542   30183       11446   197618                1               7560   \n",
       "\n",
       "      ED_LOS_In_Mins  DIAGNOSIS_CODE  HOSPITAL_EXPIRE_FLAG  \n",
       "0                633             311                     0  \n",
       "1                196             136                     0  \n",
       "2                599              16                     0  \n",
       "3                342             513                     0  \n",
       "4                866             533                     0  \n",
       "...              ...             ...                   ...  \n",
       "7538             276             240                     0  \n",
       "7539             244             240                     0  \n",
       "7540             251             447                     0  \n",
       "7541             682             123                     0  \n",
       "7542             126             498                     0  \n",
       "\n",
       "[7538 rows x 8 columns]"
      ]
     },
     "execution_count": 56,
     "metadata": {},
     "output_type": "execute_result"
    }
   ],
   "source": [
    "WT_drop = df.drop(['ADMISSION_TYPE','EDREGTIME','EDOUTTIME','DIAGNOSIS','ICD9_CODES','ADMITTIME','DISCHTIME','LOS_Hospital','LOS_EmergencyDept'],axis=1)\n",
    "WT_drop"
   ]
  },
  {
   "cell_type": "markdown",
   "metadata": {},
   "source": [
    "### Defining target variable"
   ]
  },
  {
   "cell_type": "code",
   "execution_count": 57,
   "metadata": {},
   "outputs": [],
   "source": [
    "X = WT_drop.drop(columns = 'ED_LOS_In_Mins')\n",
    "y = WT_drop[['ED_LOS_In_Mins']]"
   ]
  },
  {
   "cell_type": "code",
   "execution_count": 58,
   "metadata": {},
   "outputs": [
    {
     "name": "stdout",
     "output_type": "stream",
     "text": [
      "<class 'pandas.core.frame.DataFrame'>\n",
      "Int64Index: 7538 entries, 0 to 7542\n",
      "Data columns (total 7 columns):\n",
      " #   Column                Non-Null Count  Dtype\n",
      "---  ------                --------------  -----\n",
      " 0   Sr_Num                7538 non-null   int64\n",
      " 1   SUBJECT_ID            7538 non-null   int64\n",
      " 2   HADM_ID               7538 non-null   int64\n",
      " 3   ADMISSION_TYPE2       7538 non-null   int64\n",
      " 4   ED_LOS_In_Seconds     7538 non-null   int64\n",
      " 5   DIAGNOSIS_CODE        7538 non-null   int64\n",
      " 6   HOSPITAL_EXPIRE_FLAG  7538 non-null   int64\n",
      "dtypes: int64(7)\n",
      "memory usage: 471.1 KB\n"
     ]
    }
   ],
   "source": [
    "X.info()"
   ]
  },
  {
   "cell_type": "code",
   "execution_count": 59,
   "metadata": {},
   "outputs": [
    {
     "name": "stdout",
     "output_type": "stream",
     "text": [
      "<class 'pandas.core.frame.DataFrame'>\n",
      "Int64Index: 7538 entries, 0 to 7542\n",
      "Data columns (total 1 columns):\n",
      " #   Column          Non-Null Count  Dtype\n",
      "---  ------          --------------  -----\n",
      " 0   ED_LOS_In_Mins  7538 non-null   int64\n",
      "dtypes: int64(1)\n",
      "memory usage: 117.8 KB\n"
     ]
    }
   ],
   "source": [
    "y.info()"
   ]
  },
  {
   "cell_type": "code",
   "execution_count": 60,
   "metadata": {},
   "outputs": [
    {
     "data": {
      "text/html": [
       "<div>\n",
       "<style scoped>\n",
       "    .dataframe tbody tr th:only-of-type {\n",
       "        vertical-align: middle;\n",
       "    }\n",
       "\n",
       "    .dataframe tbody tr th {\n",
       "        vertical-align: top;\n",
       "    }\n",
       "\n",
       "    .dataframe thead th {\n",
       "        text-align: right;\n",
       "    }\n",
       "</style>\n",
       "<table border=\"1\" class=\"dataframe\">\n",
       "  <thead>\n",
       "    <tr style=\"text-align: right;\">\n",
       "      <th></th>\n",
       "      <th>ED_LOS_In_Mins</th>\n",
       "    </tr>\n",
       "  </thead>\n",
       "  <tbody>\n",
       "    <tr>\n",
       "      <th>0</th>\n",
       "      <td>633</td>\n",
       "    </tr>\n",
       "    <tr>\n",
       "      <th>1</th>\n",
       "      <td>196</td>\n",
       "    </tr>\n",
       "    <tr>\n",
       "      <th>2</th>\n",
       "      <td>599</td>\n",
       "    </tr>\n",
       "    <tr>\n",
       "      <th>3</th>\n",
       "      <td>342</td>\n",
       "    </tr>\n",
       "    <tr>\n",
       "      <th>4</th>\n",
       "      <td>866</td>\n",
       "    </tr>\n",
       "  </tbody>\n",
       "</table>\n",
       "</div>"
      ],
      "text/plain": [
       "   ED_LOS_In_Mins\n",
       "0             633\n",
       "1             196\n",
       "2             599\n",
       "3             342\n",
       "4             866"
      ]
     },
     "execution_count": 60,
     "metadata": {},
     "output_type": "execute_result"
    }
   ],
   "source": [
    "y.head()"
   ]
  },
  {
   "cell_type": "markdown",
   "metadata": {},
   "source": [
    "# Model building\n",
    "#### Spliting data into training and testing sets with the ratio of 80% and 20%"
   ]
  },
  {
   "cell_type": "code",
   "execution_count": 61,
   "metadata": {},
   "outputs": [],
   "source": [
    "X_train, X_test, y_train, y_test = train_test_split(X, y, test_size = 0.2, random_state=0)"
   ]
  },
  {
   "cell_type": "markdown",
   "metadata": {},
   "source": [
    "# Random forest "
   ]
  },
  {
   "cell_type": "code",
   "execution_count": 62,
   "metadata": {},
   "outputs": [],
   "source": [
    "from sklearn.ensemble import RandomForestRegressor"
   ]
  },
  {
   "cell_type": "code",
   "execution_count": 63,
   "metadata": {},
   "outputs": [],
   "source": [
    "forest = RandomForestRegressor(n_estimators=100, random_state=0, min_samples_split=35,max_features=2)"
   ]
  },
  {
   "cell_type": "code",
   "execution_count": 64,
   "metadata": {},
   "outputs": [
    {
     "data": {
      "text/plain": [
       "RandomForestRegressor(bootstrap=True, ccp_alpha=0.0, criterion='mse',\n",
       "                      max_depth=None, max_features=2, max_leaf_nodes=None,\n",
       "                      max_samples=None, min_impurity_decrease=0.0,\n",
       "                      min_impurity_split=None, min_samples_leaf=1,\n",
       "                      min_samples_split=35, min_weight_fraction_leaf=0.0,\n",
       "                      n_estimators=100, n_jobs=None, oob_score=False,\n",
       "                      random_state=0, verbose=0, warm_start=False)"
      ]
     },
     "execution_count": 64,
     "metadata": {},
     "output_type": "execute_result"
    }
   ],
   "source": [
    "forest.fit(X_train, y_train)"
   ]
  },
  {
   "cell_type": "code",
   "execution_count": 65,
   "metadata": {},
   "outputs": [
    {
     "name": "stdout",
     "output_type": "stream",
     "text": [
      "Accuracy on training set: 95.63%\n",
      "Accuracy on test set: 95.57%\n"
     ]
    }
   ],
   "source": [
    "print(\"Accuracy on training set: {:.2f}%\".format(forest.score(X_train, y_train)*100)) \n",
    "print(\"Accuracy on test set: {:.2f}%\".format(forest.score(X_test, y_test)*100))"
   ]
  },
  {
   "cell_type": "markdown",
   "metadata": {},
   "source": [
    "# Gradient boosting"
   ]
  },
  {
   "cell_type": "code",
   "execution_count": 66,
   "metadata": {},
   "outputs": [
    {
     "name": "stdout",
     "output_type": "stream",
     "text": [
      "Accuracy on training set: 95.29%\n",
      "Accuracy on test set: 96.35%\n"
     ]
    }
   ],
   "source": [
    "from sklearn.ensemble import GradientBoostingRegressor\n",
    "grbt = GradientBoostingRegressor(random_state=0, max_depth=1,  max_features=3) \n",
    "grbt.fit(X_train, y_train)\n",
    "\n",
    "print(\"Accuracy on training set: {:.2f}%\".format(grbt.score(X_train, y_train)*100)) \n",
    "print(\"Accuracy on test set: {:.2f}%\".format(grbt.score(X_test, y_test)*100))"
   ]
  },
  {
   "cell_type": "markdown",
   "metadata": {},
   "source": [
    "# K-neighbor"
   ]
  },
  {
   "cell_type": "code",
   "execution_count": 67,
   "metadata": {},
   "outputs": [],
   "source": [
    "from sklearn import neighbors"
   ]
  },
  {
   "cell_type": "code",
   "execution_count": 68,
   "metadata": {},
   "outputs": [],
   "source": [
    "model = neighbors.KNeighborsRegressor(n_neighbors = 4)"
   ]
  },
  {
   "cell_type": "code",
   "execution_count": 69,
   "metadata": {},
   "outputs": [
    {
     "name": "stdout",
     "output_type": "stream",
     "text": [
      "Accuracy on training set: 99.44%\n",
      "Accuracy on test set: 99.19%\n"
     ]
    }
   ],
   "source": [
    "model.fit(X_train, y_train)\n",
    "print(\"Accuracy on training set: {:.2f}%\".format(model.score(X_train, y_train)*100)) \n",
    "print(\"Accuracy on test set: {:.2f}%\".format(model.score(X_test, y_test)*100))"
   ]
  },
  {
   "cell_type": "markdown",
   "metadata": {},
   "source": [
    "# Decision tree"
   ]
  },
  {
   "cell_type": "code",
   "execution_count": 70,
   "metadata": {},
   "outputs": [],
   "source": [
    "from sklearn.tree import DecisionTreeRegressor\n",
    "tree = DecisionTreeRegressor(max_depth=5, max_features=3, random_state=0, min_samples_split=5)"
   ]
  },
  {
   "cell_type": "code",
   "execution_count": 71,
   "metadata": {},
   "outputs": [
    {
     "name": "stdout",
     "output_type": "stream",
     "text": [
      "Accuracy on training set: 91.92%\n",
      "Accuracy on test set: 89.99%\n"
     ]
    }
   ],
   "source": [
    "tree.fit(X_train, y_train)\n",
    "print(\"Accuracy on training set: {:.2f}%\".format(tree.score(X_train, y_train)*100)) \n",
    "print(\"Accuracy on test set: {:.2f}%\".format(tree.score(X_test, y_test)*100))"
   ]
  },
  {
   "cell_type": "markdown",
   "metadata": {},
   "source": [
    "# Neural Network"
   ]
  },
  {
   "cell_type": "code",
   "execution_count": 72,
   "metadata": {},
   "outputs": [],
   "source": [
    "X_train, X_test, y_train, y_test = train_test_split(X, y, test_size = 0.40, random_state=0)"
   ]
  },
  {
   "cell_type": "code",
   "execution_count": 73,
   "metadata": {},
   "outputs": [
    {
     "data": {
      "text/plain": [
       "MLPRegressor(activation='relu', alpha=8e-05, batch_size='auto', beta_1=0.9,\n",
       "             beta_2=0.999, early_stopping=False, epsilon=1e-08,\n",
       "             hidden_layer_sizes=(100,), learning_rate='constant',\n",
       "             learning_rate_init=0.007, max_fun=15000, max_iter=60, momentum=0.9,\n",
       "             n_iter_no_change=10, nesterovs_momentum=True, power_t=0.5,\n",
       "             random_state=0, shuffle=True, solver='adam', tol=0.0001,\n",
       "             validation_fraction=0.1, verbose=False, warm_start=False)"
      ]
     },
     "execution_count": 73,
     "metadata": {},
     "output_type": "execute_result"
    }
   ],
   "source": [
    "from sklearn.neural_network import MLPRegressor\n",
    "mlp = MLPRegressor(random_state=0,max_iter=60,alpha=0.00008,learning_rate_init=0.007)\n",
    "mlp.fit(X_train, y_train)"
   ]
  },
  {
   "cell_type": "code",
   "execution_count": 74,
   "metadata": {},
   "outputs": [
    {
     "name": "stdout",
     "output_type": "stream",
     "text": [
      "Accuracy on training set: 92.26%\n",
      "Accuracy on test set: 91.63%\n"
     ]
    }
   ],
   "source": [
    "print(\"Accuracy on training set: {:.2f}%\".format(mlp.score(X_train, y_train)*100)) \n",
    "print(\"Accuracy on test set: {:.2f}%\".format(mlp.score(X_test, y_test)*100))"
   ]
  }
 ],
 "metadata": {
  "kernelspec": {
   "display_name": "Python 3",
   "language": "python",
   "name": "python3"
  },
  "language_info": {
   "codemirror_mode": {
    "name": "ipython",
    "version": 3
   },
   "file_extension": ".py",
   "mimetype": "text/x-python",
   "name": "python",
   "nbconvert_exporter": "python",
   "pygments_lexer": "ipython3",
   "version": "3.7.6"
  }
 },
 "nbformat": 4,
 "nbformat_minor": 4
}
